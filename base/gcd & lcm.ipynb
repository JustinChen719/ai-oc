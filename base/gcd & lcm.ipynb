{
 "cells": [
  {
   "metadata": {},
   "cell_type": "markdown",
   "source": "# 1 GCD 最大公因数",
   "id": "a9b1d247b4c51bc0"
  },
  {
   "metadata": {},
   "cell_type": "markdown",
   "source": "## 1.1 递归实现",
   "id": "e3c7aef3cd7f464e"
  },
  {
   "cell_type": "code",
   "id": "initial_id",
   "metadata": {
    "collapsed": true,
    "ExecuteTime": {
     "end_time": "2025-05-10T13:16:04.482652Z",
     "start_time": "2025-05-10T13:16:04.478134Z"
    }
   },
   "source": [
    "def gcd(a, b):\n",
    "    if b == 0:\n",
    "        return a\n",
    "    return gcd(b, a % b)"
   ],
   "outputs": [],
   "execution_count": 1
  },
  {
   "metadata": {},
   "cell_type": "markdown",
   "source": "## 1.2 非递归实现",
   "id": "8ef8b14afe4a7e46"
  },
  {
   "metadata": {
    "ExecuteTime": {
     "end_time": "2025-05-10T13:19:25.299112Z",
     "start_time": "2025-05-10T13:19:25.296512Z"
    }
   },
   "cell_type": "code",
   "source": [
    "def gcd(a, b):\n",
    "    while b != 0:\n",
    "        a, b = b, a % b\n",
    "    return a"
   ],
   "id": "f5bab27306c299e2",
   "outputs": [],
   "execution_count": 3
  },
  {
   "metadata": {},
   "cell_type": "markdown",
   "source": "## 测试",
   "id": "68a389c851e10327"
  },
  {
   "metadata": {
    "ExecuteTime": {
     "end_time": "2025-05-10T13:16:11.231418Z",
     "start_time": "2025-05-10T13:16:11.227883Z"
    }
   },
   "cell_type": "code",
   "source": [
    "a, b = 9, 78\n",
    "out = gcd(a, b)\n",
    "out"
   ],
   "id": "71b0ddd003e835c",
   "outputs": [
    {
     "data": {
      "text/plain": [
       "3"
      ]
     },
     "execution_count": 4,
     "metadata": {},
     "output_type": "execute_result"
    }
   ],
   "execution_count": 4
  },
  {
   "metadata": {},
   "cell_type": "markdown",
   "source": [
    "# 2 LCM 最小公倍数\n",
    "\n",
    "> 根据数学性质：lcm等于两数之积除以gcd"
   ],
   "id": "c87999c5d61fb45e"
  },
  {
   "metadata": {
    "ExecuteTime": {
     "end_time": "2025-05-10T13:19:27.025336Z",
     "start_time": "2025-05-10T13:19:27.022214Z"
    }
   },
   "cell_type": "code",
   "source": [
    "assert gcd\n",
    "\n",
    "\n",
    "def lcm(x, y):\n",
    "    return x * y // gcd(x, y)"
   ],
   "id": "9f238ced05417db2",
   "outputs": [],
   "execution_count": 4
  },
  {
   "metadata": {},
   "cell_type": "markdown",
   "source": "## 测试",
   "id": "b4d8a6b9ca68b899"
  },
  {
   "metadata": {
    "ExecuteTime": {
     "end_time": "2025-05-10T13:20:00.247793Z",
     "start_time": "2025-05-10T13:20:00.242917Z"
    }
   },
   "cell_type": "code",
   "source": [
    "a, b = 9, 78\n",
    "out = lcm(a, b)\n",
    "out"
   ],
   "id": "f81189168098cfa9",
   "outputs": [
    {
     "data": {
      "text/plain": [
       "234"
      ]
     },
     "execution_count": 5,
     "metadata": {},
     "output_type": "execute_result"
    }
   ],
   "execution_count": 5
  }
 ],
 "metadata": {
  "kernelspec": {
   "display_name": "Python 3",
   "language": "python",
   "name": "python3"
  },
  "language_info": {
   "codemirror_mode": {
    "name": "ipython",
    "version": 2
   },
   "file_extension": ".py",
   "mimetype": "text/x-python",
   "name": "python",
   "nbconvert_exporter": "python",
   "pygments_lexer": "ipython2",
   "version": "2.7.6"
  }
 },
 "nbformat": 4,
 "nbformat_minor": 5
}
