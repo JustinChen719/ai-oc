{
 "cells": [
  {
   "metadata": {},
   "cell_type": "markdown",
   "source": "# 1 质数",
   "id": "3459dc8696cd1b8c"
  },
  {
   "metadata": {},
   "cell_type": "markdown",
   "source": "## 1.1 判断质数",
   "id": "10865685652a1409"
  },
  {
   "cell_type": "code",
   "id": "initial_id",
   "metadata": {
    "collapsed": true,
    "ExecuteTime": {
     "end_time": "2025-05-10T13:27:21.700762Z",
     "start_time": "2025-05-10T13:27:21.697262Z"
    }
   },
   "source": [
    "def is_prime(n):\n",
    "    if n == 2:\n",
    "        return True\n",
    "    if n < 2 or n % 2 == 0:\n",
    "        return False\n",
    "    for i in range(3, int(n ** 0.5) + 1, 2):\n",
    "        if n % i == 0:\n",
    "            return False\n",
    "    return True"
   ],
   "outputs": [],
   "execution_count": 15
  },
  {
   "metadata": {},
   "cell_type": "markdown",
   "source": "## 测试",
   "id": "9a9a1e3d1153c052"
  },
  {
   "metadata": {
    "ExecuteTime": {
     "end_time": "2025-05-10T13:27:22.877991Z",
     "start_time": "2025-05-10T13:27:22.874034Z"
    }
   },
   "cell_type": "code",
   "source": [
    "a = 2\n",
    "is_prime(2)"
   ],
   "id": "71e2a226e0a04798",
   "outputs": [
    {
     "data": {
      "text/plain": [
       "True"
      ]
     },
     "execution_count": 16,
     "metadata": {},
     "output_type": "execute_result"
    }
   ],
   "execution_count": 16
  },
  {
   "metadata": {},
   "cell_type": "markdown",
   "source": "## 1.2 质数筛（埃拉托斯特尼筛法）",
   "id": "36098371148a112"
  },
  {
   "metadata": {
    "ExecuteTime": {
     "end_time": "2025-05-10T13:34:30.127327Z",
     "start_time": "2025-05-10T13:34:30.124360Z"
    }
   },
   "cell_type": "code",
   "source": [
    "def sieve(n):\n",
    "    is_primes = [True] * (n + 1)\n",
    "    is_primes[0:2] = [False, False]\n",
    "    for i in range(2, int(n ** 0.5) + 1):\n",
    "        if is_primes[i]:\n",
    "            for j in range(i * i, n + 1, i):\n",
    "                is_primes[j] = False\n",
    "    return [i for i, f in enumerate(is_primes) if f]"
   ],
   "id": "695902323dc6777a",
   "outputs": [],
   "execution_count": 17
  },
  {
   "metadata": {
    "ExecuteTime": {
     "end_time": "2025-05-10T13:35:11.140646Z",
     "start_time": "2025-05-10T13:35:11.136749Z"
    }
   },
   "cell_type": "code",
   "source": "sieve(50)",
   "id": "90c738fe7632bad0",
   "outputs": [
    {
     "data": {
      "text/plain": [
       "[2, 3, 5, 7, 11, 13, 17, 19, 23, 29, 31, 37, 41, 43, 47]"
      ]
     },
     "execution_count": 23,
     "metadata": {},
     "output_type": "execute_result"
    }
   ],
   "execution_count": 23
  }
 ],
 "metadata": {
  "kernelspec": {
   "display_name": "Python 3",
   "language": "python",
   "name": "python3"
  },
  "language_info": {
   "codemirror_mode": {
    "name": "ipython",
    "version": 2
   },
   "file_extension": ".py",
   "mimetype": "text/x-python",
   "name": "python",
   "nbconvert_exporter": "python",
   "pygments_lexer": "ipython2",
   "version": "2.7.6"
  }
 },
 "nbformat": 4,
 "nbformat_minor": 5
}
