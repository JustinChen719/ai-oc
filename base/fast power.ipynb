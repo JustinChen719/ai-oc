{
 "cells": [
  {
   "metadata": {},
   "cell_type": "markdown",
   "source": "# 1 Fast Power（快速幂）",
   "id": "598a7e88342cd008"
  },
  {
   "cell_type": "code",
   "id": "initial_id",
   "metadata": {
    "collapsed": true,
    "ExecuteTime": {
     "end_time": "2025-05-10T13:51:08.114316Z",
     "start_time": "2025-05-10T13:51:08.111068Z"
    }
   },
   "source": [
    "def fast_pow(a: float, n: int) -> float:\n",
    "    temp = 1.0\n",
    "    if n < 0:\n",
    "        return 1 / fast_pow(a, -n)\n",
    "    while n:\n",
    "        if n & 1:\n",
    "            temp *= a\n",
    "        a *= a\n",
    "        n >>= 1\n",
    "    return temp"
   ],
   "outputs": [],
   "execution_count": 25
  },
  {
   "metadata": {},
   "cell_type": "markdown",
   "source": "## 测试",
   "id": "7d9b26a2e53250c1"
  },
  {
   "metadata": {
    "ExecuteTime": {
     "end_time": "2025-05-10T13:51:09.118115Z",
     "start_time": "2025-05-10T13:51:09.114010Z"
    }
   },
   "cell_type": "code",
   "source": "fast_pow(4, -2)",
   "id": "fb88a69b075ec2a0",
   "outputs": [
    {
     "data": {
      "text/plain": [
       "0.0625"
      ]
     },
     "execution_count": 26,
     "metadata": {},
     "output_type": "execute_result"
    }
   ],
   "execution_count": 26
  }
 ],
 "metadata": {
  "kernelspec": {
   "display_name": "Python 3",
   "language": "python",
   "name": "python3"
  },
  "language_info": {
   "codemirror_mode": {
    "name": "ipython",
    "version": 2
   },
   "file_extension": ".py",
   "mimetype": "text/x-python",
   "name": "python",
   "nbconvert_exporter": "python",
   "pygments_lexer": "ipython2",
   "version": "2.7.6"
  }
 },
 "nbformat": 4,
 "nbformat_minor": 5
}
