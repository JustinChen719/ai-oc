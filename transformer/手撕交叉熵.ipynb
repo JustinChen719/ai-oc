{
 "cells": [
  {
   "metadata": {},
   "cell_type": "markdown",
   "source": [
    "# 1 二分类交叉熵（Binary Cross-Entropy）\n",
    "$$\n",
    "\\mathcal{L}_{\\text{BCE}} = -\\frac{1}{N}\\sum_{i=1}^{N} \\left[ y_i \\log(\\widehat{y_i}) + (1 - y_i) \\log(1 - \\widehat{y_i}) \\right]\n",
    "$$"
   ],
   "id": "61b3998c61880ba0"
  },
  {
   "cell_type": "code",
   "id": "initial_id",
   "metadata": {
    "collapsed": true,
    "ExecuteTime": {
     "end_time": "2025-05-10T14:21:02.145548Z",
     "start_time": "2025-05-10T14:21:02.142249Z"
    }
   },
   "source": [
    "import torch\n",
    "\n",
    "\n",
    "def bce_loss(y, y_pred):\n",
    "    # sigmoid 转换为概率值（0-1之间）\n",
    "    y_pred = 1 / (1 + torch.exp(-y_pred))\n",
    "\n",
    "    # 裁剪，防止出现 log(0)\n",
    "    epsilon = 1e-7\n",
    "    y_pred = torch.clamp(y_pred, min=epsilon, max=1 - epsilon)\n",
    "\n",
    "    # 套公式\n",
    "    loss = y * torch.log(y_pred) + (1 - y) * torch.log(1 - y_pred)\n",
    "    return -loss.mean()"
   ],
   "outputs": [],
   "execution_count": 17
  },
  {
   "metadata": {},
   "cell_type": "markdown",
   "source": [
    "## 测试\n",
    "得到的bce loss是一个正数，训练时不断减小loss。"
   ],
   "id": "d4f8b36a2389b949"
  },
  {
   "metadata": {
    "ExecuteTime": {
     "end_time": "2025-05-10T14:21:03.090571Z",
     "start_time": "2025-05-10T14:21:03.086300Z"
    }
   },
   "cell_type": "code",
   "source": [
    "y_pred = torch.Tensor([-2, 2.8, -1.6, 3.2, -3])\n",
    "y = torch.Tensor([0, 1, 0, 1, 0])\n",
    "\n",
    "bce_loss(y, y_pred)"
   ],
   "id": "2e8d134b5cab60cf",
   "outputs": [
    {
     "data": {
      "text/plain": [
       "tensor(0.0917)"
      ]
     },
     "execution_count": 18,
     "metadata": {},
     "output_type": "execute_result"
    }
   ],
   "execution_count": 18
  },
  {
   "metadata": {},
   "cell_type": "markdown",
   "source": [
    "# 2 多分类交叉熵（Categorical Cross-Entropy）\n",
    "\n",
    "$$\n",
    "\\mathcal{L}_{\\text{CE}} = -\\frac{1}{N}\\sum_{i=1}^{N} \\sum_{c=1}^{C} y_{i,c} \\log(\\widehat{y}_{i,c})\n",
    "$$\n",
    "\n",
    "熟悉一下公式"
   ],
   "id": "16041782164d85e2"
  }
 ],
 "metadata": {
  "kernelspec": {
   "display_name": "Python 3",
   "language": "python",
   "name": "python3"
  },
  "language_info": {
   "codemirror_mode": {
    "name": "ipython",
    "version": 2
   },
   "file_extension": ".py",
   "mimetype": "text/x-python",
   "name": "python",
   "nbconvert_exporter": "python",
   "pygments_lexer": "ipython2",
   "version": "2.7.6"
  }
 },
 "nbformat": 4,
 "nbformat_minor": 5
}
