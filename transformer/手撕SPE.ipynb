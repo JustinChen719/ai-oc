{
 "cells": [
  {
   "metadata": {},
   "cell_type": "markdown",
   "source": "# 1 SPE（Sinusoidal Positional Encoding，正弦余弦位置编码）",
   "id": "20d9c56074f2b994"
  },
  {
   "metadata": {},
   "cell_type": "markdown",
   "source": [
    "$$\n",
    "\\text{PE}(pos, 2i) = \\sin\\left(\\frac{pos}{10000^{\\frac{2i}{\\text{embed\\_dim}}}} \\right)\n",
    "$$\n",
    "$$\n",
    "\\text{PE}(pos, 2i + 1) = \\cos\\left(\\frac{pos}{10000^{\\frac{2i}{\\text{embed\\_dim}}}} \\right)\n",
    "$$\n",
    "\n",
    "简化一下，式子中的div_term其实就是：\n",
    "$$\n",
    "10000^{-\\frac{2i}{\\text{embed\\_dim}}} = \\frac{1}{10000^{\\frac{2i}{\\text{embed\\_dim}}}}\n",
    "$$\n"
   ],
   "id": "43bad22cd93ca3e5"
  },
  {
   "cell_type": "code",
   "id": "initial_id",
   "metadata": {
    "collapsed": true,
    "ExecuteTime": {
     "end_time": "2025-05-11T08:38:37.528941Z",
     "start_time": "2025-05-11T08:38:37.524758Z"
    }
   },
   "source": [
    "import torch\n",
    "import math\n",
    "import torch.nn as nn\n",
    "\n",
    "\n",
    "class PositionalEncoding(nn.Module):\n",
    "    def __init__(self, embed_dim=16, max_len=1000):\n",
    "        super().__init__()\n",
    "\n",
    "        self.pe = torch.zeros(max_len, embed_dim)\n",
    "        self.base = 10000\n",
    "        # 从0到最大位置的序号\n",
    "        position = torch.arange(0, max_len, dtype=torch.float).unsqueeze(1)\n",
    "        # 计算式子中的分母（可以从上面公式中看出，奇数偶数位置的计算都是相同的分母）\n",
    "        div_term = torch.exp(torch.arange(0, embed_dim, 2, dtype=torch.float) * -(math.log(self.base) / embed_dim))\n",
    "        # 根据公式填充位置编码矩阵\n",
    "        self.pe[:, 0::2] = torch.sin(position * div_term)  # 偶数位置使用sin\n",
    "        self.pe[:, 1::2] = torch.cos(position * div_term)  # 奇数位置使用cos\n",
    "        # 添加batch维度\n",
    "        self.pe = self.pe.unsqueeze(0)\n",
    "\n",
    "    def forward(self, x):\n",
    "        _, seq_len, _ = x.shape\n",
    "        # 为x每个位置添加位置编码\n",
    "        return x + self.pe[:, :seq_len]\n"
   ],
   "outputs": [],
   "execution_count": 31
  },
  {
   "metadata": {},
   "cell_type": "markdown",
   "source": "## 测试",
   "id": "5ca4e3bdbb49f158"
  },
  {
   "metadata": {
    "ExecuteTime": {
     "end_time": "2025-05-11T08:39:15.853188Z",
     "start_time": "2025-05-11T08:39:15.845842Z"
    }
   },
   "cell_type": "code",
   "source": [
    "pe = PositionalEncoding(embed_dim=4)\n",
    "x = torch.randn(1, 2, 4)\n",
    "print(\"原始输入：\")\n",
    "print(x)\n",
    "print(\"带位置编码：\")\n",
    "pe.forward(x)"
   ],
   "id": "122f8d1374643c67",
   "outputs": [
    {
     "name": "stdout",
     "output_type": "stream",
     "text": [
      "原始输入：\n",
      "tensor([[[-0.3361, -0.1531, -0.0838, -1.1054],\n",
      "         [ 0.2267, -0.0934,  0.2530,  1.2269]]])\n",
      "带位置编码：\n"
     ]
    },
    {
     "data": {
      "text/plain": [
       "tensor([[[-0.3361,  0.8469, -0.0838, -0.1054],\n",
       "         [ 1.0681,  0.4469,  0.2630,  2.2269]]])"
      ]
     },
     "execution_count": 35,
     "metadata": {},
     "output_type": "execute_result"
    }
   ],
   "execution_count": 35
  }
 ],
 "metadata": {
  "kernelspec": {
   "display_name": "Python 3",
   "language": "python",
   "name": "python3"
  },
  "language_info": {
   "codemirror_mode": {
    "name": "ipython",
    "version": 2
   },
   "file_extension": ".py",
   "mimetype": "text/x-python",
   "name": "python",
   "nbconvert_exporter": "python",
   "pygments_lexer": "ipython2",
   "version": "2.7.6"
  }
 },
 "nbformat": 4,
 "nbformat_minor": 5
}
