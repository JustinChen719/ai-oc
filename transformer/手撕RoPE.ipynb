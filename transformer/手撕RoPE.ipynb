{
 "cells": [
  {
   "metadata": {},
   "cell_type": "markdown",
   "source": "# 1 RoPE（Rotary Position Embedding，旋转位置编码）",
   "id": "bed5741837c60783"
  },
  {
   "metadata": {},
   "cell_type": "markdown",
   "source": [
    "根据embed_dim，维度的不同位置，具有不同的频率值：\n",
    "$$\n",
    "freq = \\frac{1}{base^{2i / dim}}\n",
    "$$\n",
    "\n",
    "根据seq_len，序列中不同位置，具备不同的系数m：\n",
    "$$\n",
    "m = i, i \\in [0, seq\\_len - 1]\n",
    "$$\n",
    "\n",
    "由此计算出每一个token的每一个维度位置的旋转角度：\n",
    "$$\n",
    "angles = m * freq\n",
    "$$\n",
    "\n"
   ],
   "id": "9552254bdd868052"
  },
  {
   "cell_type": "code",
   "id": "3f3958d91b590e83",
   "metadata": {
    "ExecuteTime": {
     "end_time": "2025-05-18T09:25:49.267511Z",
     "start_time": "2025-05-18T09:25:49.263308Z"
    }
   },
   "source": [
    "import torch\n",
    "\n",
    "\n",
    "class RoPE:\n",
    "    def __init__(self, base: int = 10000):\n",
    "        self.base = base\n",
    "\n",
    "    def apply_rope(self, x):\n",
    "        batch_size, seq_len, embed_dim = x.shape\n",
    "\n",
    "        # 根据embed_dim，生成不同维度的频率\n",
    "        freqs = self.base ** (-torch.arange(0, embed_dim, 2) / embed_dim)\n",
    "        # 根据max_len，生成位置索引，扩展一个embed_dim维度\n",
    "        m = torch.arange(seq_len).unsqueeze(1)\n",
    "        # 每个位置的旋转角度\n",
    "        angles = freqs * m\n",
    "\n",
    "        # 分别计算sin和cos\n",
    "        sin = torch.sin(angles)\n",
    "        cos = torch.cos(angles)\n",
    "\n",
    "        # 拆分为偶数、奇数序列，并且两两为一个组\n",
    "        x1, x2 = x[..., 0::2], x[..., 1::2]\n",
    "\n",
    "        rotated1 = x1 * cos - x2 * sin\n",
    "        rotated2 = x1 * sin + x2 * cos\n",
    "\n",
    "        return torch.stack([rotated1, rotated2], dim=-1).flatten(-2)\n"
   ],
   "outputs": [],
   "execution_count": 36
  },
  {
   "metadata": {
    "collapsed": true,
    "ExecuteTime": {
     "end_time": "2025-05-18T09:25:52.981089Z",
     "start_time": "2025-05-18T09:25:52.977573Z"
    }
   },
   "cell_type": "code",
   "source": [
    "rope = RoPE()\n",
    "rope.apply_rope(torch.randn(1, 2, 16))"
   ],
   "id": "initial_id",
   "outputs": [
    {
     "data": {
      "text/plain": [
       "tensor([[[ 0.8016,  0.9471,  0.4519,  0.2748,  0.9806,  0.4978,  1.4450,\n",
       "           0.4957,  0.2457,  0.3452, -0.1276, -0.5308, -1.4016, -0.4081,\n",
       "           0.5138,  1.9119],\n",
       "         [ 0.7372, -1.0070, -0.3985, -1.0715,  0.7012, -0.0459,  0.0783,\n",
       "          -0.0165,  1.4683, -1.7392, -0.8366,  0.3128,  1.7088,  0.2354,\n",
       "           0.1994, -0.7368]]])"
      ]
     },
     "execution_count": 37,
     "metadata": {},
     "output_type": "execute_result"
    }
   ],
   "execution_count": 37
  }
 ],
 "metadata": {
  "kernelspec": {
   "display_name": "Python 3",
   "language": "python",
   "name": "python3"
  },
  "language_info": {
   "codemirror_mode": {
    "name": "ipython",
    "version": 2
   },
   "file_extension": ".py",
   "mimetype": "text/x-python",
   "name": "python",
   "nbconvert_exporter": "python",
   "pygments_lexer": "ipython2",
   "version": "2.7.6"
  }
 },
 "nbformat": 4,
 "nbformat_minor": 5
}
