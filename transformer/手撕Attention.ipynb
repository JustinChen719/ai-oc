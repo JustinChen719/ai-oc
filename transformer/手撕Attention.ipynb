{
 "cells": [
  {
   "metadata": {},
   "cell_type": "markdown",
   "source": "# 1 手撕 Self-Attention",
   "id": "9499eac3cc80aa96"
  },
  {
   "cell_type": "code",
   "id": "initial_id",
   "metadata": {
    "collapsed": true,
    "ExecuteTime": {
     "end_time": "2025-05-17T07:38:17.584321Z",
     "start_time": "2025-05-17T07:38:17.579440Z"
    }
   },
   "source": [
    "import torch, math\n",
    "import torch.nn.functional as F\n",
    "from torch import nn\n",
    "\n",
    "\n",
    "class SelfAttention(nn.Module):\n",
    "    def __init__(self, embed_dim: int, dropout: int = 0.1):\n",
    "        super().__init__()\n",
    "        self.embed_dim = embed_dim\n",
    "        self.q_proj_weight = nn.Linear(embed_dim, embed_dim)\n",
    "        self.k_proj_weight = nn.Linear(embed_dim, embed_dim)\n",
    "        self.v_proj_weight = nn.Linear(embed_dim, embed_dim)\n",
    "\n",
    "        self.dropout = nn.Dropout(dropout)\n",
    "        self.output = nn.Linear(embed_dim, embed_dim)\n",
    "\n",
    "    def forward(self, x: torch.Tensor, mask: torch.Tensor = None) -> torch.Tensor:\n",
    "        # (batch_size, seq_len, embed_dim)\n",
    "        b, l, d = x.shape\n",
    "        q, k, v = self.q_proj_weight(x), self.k_proj_weight(x), self.v_proj_weight(x)\n",
    "\n",
    "        # q k 计算内积，并除以sqrt(d)\n",
    "        x = torch.matmul(q, k.transpose(-2, -1)) / math.sqrt(d)\n",
    "\n",
    "        # 应用 mask\n",
    "        if mask is not None:\n",
    "            x = x.masked_fill(mask == 0, float(\"-inf\"))\n",
    "\n",
    "        # softmax 得到概率分布\n",
    "        x = F.softmax(x, dim=-1)\n",
    "        x = self.dropout(x)\n",
    "        x = torch.matmul(x, v)\n",
    "        return self.output(x)"
   ],
   "outputs": [],
   "execution_count": 10
  },
  {
   "metadata": {
    "ExecuteTime": {
     "end_time": "2025-05-17T07:38:18.594024Z",
     "start_time": "2025-05-17T07:38:18.586940Z"
    }
   },
   "cell_type": "code",
   "source": [
    "attn = SelfAttention(embed_dim=8)\n",
    "x = torch.randn(2, 10, 8)\n",
    "attn(x).shape"
   ],
   "id": "6fa56b5f4496d2af",
   "outputs": [
    {
     "data": {
      "text/plain": [
       "torch.Size([2, 10, 8])"
      ]
     },
     "execution_count": 11,
     "metadata": {},
     "output_type": "execute_result"
    }
   ],
   "execution_count": 11
  }
 ],
 "metadata": {
  "kernelspec": {
   "display_name": "Python 3",
   "language": "python",
   "name": "python3"
  },
  "language_info": {
   "codemirror_mode": {
    "name": "ipython",
    "version": 2
   },
   "file_extension": ".py",
   "mimetype": "text/x-python",
   "name": "python",
   "nbconvert_exporter": "python",
   "pygments_lexer": "ipython2",
   "version": "2.7.6"
  }
 },
 "nbformat": 4,
 "nbformat_minor": 5
}
