{
 "cells": [
  {
   "cell_type": "code",
   "id": "initial_id",
   "metadata": {
    "collapsed": true,
    "ExecuteTime": {
     "end_time": "2025-05-17T07:56:27.737945Z",
     "start_time": "2025-05-17T07:56:27.732610Z"
    }
   },
   "source": [
    "import torch, math\n",
    "from torch import nn\n",
    "\n",
    "\n",
    "class MultiheadAttention(nn.Module):\n",
    "    def __init__(self, embed_dim: int, heads: int, dropout: int = 0.1):\n",
    "        super().__init__()\n",
    "        assert embed_dim % heads == 0\n",
    "        self.embed_dim = embed_dim\n",
    "        self.heads = heads\n",
    "        self.head_dim = embed_dim // heads\n",
    "        self.q_proj_weight = nn.Linear(embed_dim, embed_dim)\n",
    "        self.k_proj_weight = nn.Linear(embed_dim, embed_dim)\n",
    "        self.v_proj_weight = nn.Linear(embed_dim, embed_dim)\n",
    "\n",
    "        self.softmax = nn.Softmax(dim=-1)\n",
    "\n",
    "        self.dropout = nn.Dropout(dropout)\n",
    "        self.output = nn.Linear(embed_dim, embed_dim)\n",
    "\n",
    "    def forward(self, x: torch.Tensor, mask: torch.Tensor = None) -> torch.Tensor:\n",
    "        b, l, d = x.shape\n",
    "        q, k, v = self.q_proj_weight(x), self.k_proj_weight(x), self.v_proj_weight(x)\n",
    "\n",
    "        q = q.reshape(b, l, self.heads, self.head_dim).transpose(1, 2)  # b l head head_dim\n",
    "        k = k.reshape(b, l, self.heads, self.head_dim).transpose(1, 2)\n",
    "        v = v.reshape(b, l, self.heads, self.head_dim).transpose(1, 2)\n",
    "\n",
    "        attn_score = torch.matmul(q, k.transpose(-1, -2)) / math.sqrt(self.head_dim)\n",
    "\n",
    "        if mask is not None:\n",
    "            mask = mask.unsqueeze(1).expand(-1, self.heads, -1, -1)\n",
    "            attn_score = attn_score.masked_fill(mask == 0, float(\"-inf\"))\n",
    "\n",
    "        attn_score = self.softmax(attn_score)\n",
    "        attn_score = self.dropout(attn_score)\n",
    "        attn_output = torch.matmul(attn_score, v)\n",
    "        attn_output = attn_output.transpose(1, 2).reshape(b, l, d)\n",
    "        return self.output(attn_output)"
   ],
   "outputs": [],
   "execution_count": 14
  },
  {
   "metadata": {
    "ExecuteTime": {
     "end_time": "2025-05-17T07:56:29.081568Z",
     "start_time": "2025-05-17T07:56:29.077286Z"
    }
   },
   "cell_type": "code",
   "source": [
    "mha = MultiheadAttention(embed_dim=8, heads=2)\n",
    "x = torch.randn(2, 4, 8)\n",
    "mha(x).shape"
   ],
   "id": "25ce1241432af8b6",
   "outputs": [
    {
     "data": {
      "text/plain": [
       "torch.Size([2, 4, 8])"
      ]
     },
     "execution_count": 15,
     "metadata": {},
     "output_type": "execute_result"
    }
   ],
   "execution_count": 15
  }
 ],
 "metadata": {
  "kernelspec": {
   "display_name": "Python 3",
   "language": "python",
   "name": "python3"
  },
  "language_info": {
   "codemirror_mode": {
    "name": "ipython",
    "version": 2
   },
   "file_extension": ".py",
   "mimetype": "text/x-python",
   "name": "python",
   "nbconvert_exporter": "python",
   "pygments_lexer": "ipython2",
   "version": "2.7.6"
  }
 },
 "nbformat": 4,
 "nbformat_minor": 5
}
